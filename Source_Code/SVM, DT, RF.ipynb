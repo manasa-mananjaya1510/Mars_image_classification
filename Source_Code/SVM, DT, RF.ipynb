{
 "cells": [
  {
   "cell_type": "markdown",
   "metadata": {},
   "source": [
    "# **Loading data**"
   ]
  },
  {
   "cell_type": "code",
   "execution_count": 2,
   "metadata": {
    "execution": {
     "iopub.execute_input": "2021-12-09T19:57:09.692862Z",
     "iopub.status.busy": "2021-12-09T19:57:09.692363Z",
     "iopub.status.idle": "2021-12-09T19:57:17.024390Z",
     "shell.execute_reply": "2021-12-09T19:57:17.023614Z",
     "shell.execute_reply.started": "2021-12-09T19:57:09.692824Z"
    }
   },
   "outputs": [],
   "source": [
    "import pandas as pd\n",
    "import numpy as np\n",
    "import cv2\n",
    "import skimage.color\n",
    "from PIL import Image\n",
    "\n",
    "def read_data(file_path):\n",
    "    images = []\n",
    "    labels = []\n",
    "    \n",
    "    path = '../input/mars-surface-and-curiosity-image-set-nasa/Mars Surface and Curiosity Image/'\n",
    "    f1 = open(file_path,'r')\n",
    "    for line in f1:\n",
    "        filename, label = line.split(' ')\n",
    "        #print(label,filename)\n",
    "        #filename = filename[11:]\n",
    "        path1 = path+filename\n",
    "        #print(path1)\n",
    "        img = cv2.imread(path1)\n",
    "        #img = rgb2gray(imread(path1))\n",
    "        #img = Image.open(path1).convert('LA')\n",
    "        #img.save()\n",
    "        img = cv2.resize(img, (32,32))\n",
    "        images.append(img)\n",
    "        labels.append(int(label))\n",
    "\n",
    "    images = np.array(images)\n",
    "    labels = np.array(labels)\n",
    "    return images,labels,images,labels\n",
    "\n",
    "x_train, y_train,images, labels = read_data('train_file.txt')\n",
    "x_test, y_test, images, labels= read_data('test_file.txt')\n",
    "\n",
    "#print(y_train[5])"
   ]
  },
  {
   "cell_type": "markdown",
   "metadata": {},
   "source": [
    "# Label distribution"
   ]
  },
  {
   "cell_type": "code",
   "execution_count": 4,
   "metadata": {
    "execution": {
     "iopub.execute_input": "2021-12-09T20:03:13.153088Z",
     "iopub.status.busy": "2021-12-09T20:03:13.152804Z",
     "iopub.status.idle": "2021-12-09T20:03:13.394608Z",
     "shell.execute_reply": "2021-12-09T20:03:13.393940Z",
     "shell.execute_reply.started": "2021-12-09T20:03:13.153057Z"
    }
   },
   "outputs": [],
   "source": [
    "import matplotlib.pyplot as plt\n",
    "plt.hist(labels,edgecolor = 'black',bins = 24)\n",
    "plt.title(\"mars surface\")\n",
    "plt.xlabel(\"labels\")\n",
    "plt.ylabel(\"frequency\")\n",
    "plt.show()"
   ]
  },
  {
   "cell_type": "markdown",
   "metadata": {},
   "source": [
    "# Finding best 'n' for KNN"
   ]
  },
  {
   "cell_type": "code",
   "execution_count": 5,
   "metadata": {
    "execution": {
     "iopub.execute_input": "2021-12-09T20:03:25.945746Z",
     "iopub.status.busy": "2021-12-09T20:03:25.945025Z",
     "iopub.status.idle": "2021-12-09T20:11:30.875025Z",
     "shell.execute_reply": "2021-12-09T20:11:30.874365Z",
     "shell.execute_reply.started": "2021-12-09T20:03:25.945712Z"
    }
   },
   "outputs": [],
   "source": [
    "neigh = np.arange(3,7)\n",
    "train_accuracy = np.empty(len(neigh))\n",
    "test_accuracy = np.empty(len(neigh))\n",
    "\n",
    "for i,j in enumerate(neigh):\n",
    "    knn = KNeighborsClassifier(n_neighbors = j)\n",
    "    knn.fit(x_train,y_train)\n",
    "    train_accuracy[i] = knn.score(x_train,y_train)\n",
    "    test_accuracy[i] = knn.score(x_test,y_test)\n",
    "    \n",
    "plt.title('knn accuracy')\n",
    "plt.plot(neigh, test_accuracy, label = 'Testing Accuracy')\n",
    "plt.plot(neigh, train_accuracy, label = 'Training Accuracy')\n",
    "plt.legend()\n",
    "plt.xlabel('Number of Neighbors')\n",
    "plt.ylabel('Accuracy')\n",
    "plt.show()"
   ]
  },
  {
   "cell_type": "markdown",
   "metadata": {},
   "source": [
    "# Decision Tree"
   ]
  },
  {
   "cell_type": "code",
   "execution_count": 20,
   "metadata": {
    "execution": {
     "iopub.execute_input": "2021-12-09T20:37:38.098157Z",
     "iopub.status.busy": "2021-12-09T20:37:38.097879Z",
     "iopub.status.idle": "2021-12-09T20:37:52.105660Z",
     "shell.execute_reply": "2021-12-09T20:37:52.104972Z",
     "shell.execute_reply.started": "2021-12-09T20:37:38.098120Z"
    }
   },
   "outputs": [],
   "source": [
    "from sklearn.tree import DecisionTreeClassifier\n",
    "import seaborn as sns\n",
    "\n",
    "clf = DecisionTreeClassifier(max_depth = 21)\n",
    "clf.fit(x_train,y_train)\n",
    "predict_dt = clf.predict(x_test)\n",
    "cm = confusion_matrix(y_test,predict_dt)\n",
    "print(classification_report(y_test,predict_dt))\n",
    "print(clf.score(x_test,y_test))\n",
    "\n",
    "plt.rcParams['figure.figsize'] = (10,10)\n",
    "sns.heatmap(cm, annot=True)\n",
    "plt.title(\"Confusion Matrix\", fontsize = 15)\n",
    "plt.show()\n"
   ]
  },
  {
   "cell_type": "code",
   "execution_count": 8,
   "metadata": {
    "execution": {
     "iopub.execute_input": "2021-12-09T20:12:27.627866Z",
     "iopub.status.busy": "2021-12-09T20:12:27.627072Z",
     "iopub.status.idle": "2021-12-09T20:12:40.028271Z",
     "shell.execute_reply": "2021-12-09T20:12:40.027360Z",
     "shell.execute_reply.started": "2021-12-09T20:12:27.627821Z"
    }
   },
   "outputs": [],
   "source": [
    "!pip install pydotplus"
   ]
  },
  {
   "cell_type": "code",
   "execution_count": 9,
   "metadata": {
    "execution": {
     "iopub.execute_input": "2021-12-09T20:14:10.490369Z",
     "iopub.status.busy": "2021-12-09T20:14:10.489713Z",
     "iopub.status.idle": "2021-12-09T20:14:24.010906Z",
     "shell.execute_reply": "2021-12-09T20:14:24.010087Z",
     "shell.execute_reply.started": "2021-12-09T20:14:10.490327Z"
    }
   },
   "outputs": [],
   "source": [
    "from six import StringIO\n",
    "from IPython.display import Image\n",
    "from sklearn.tree import export_graphviz\n",
    "import pydotplus\n",
    "import graphviz\n",
    "\n",
    "features = []\n",
    "dot_data = StringIO()\n",
    "export_graphviz(clf, out_file=dot_data,  \n",
    "                filled=True, rounded=True,\n",
    "                special_characters=True)\n",
    "graph = pydotplus.graph_from_dot_data(dot_data.getvalue())  \n",
    "graph.write_png('mars.png')\n",
    "graph.set_size('\"100,5!\"')\n",
    "Image(graph.create_png())"
   ]
  },
  {
   "cell_type": "markdown",
   "metadata": {},
   "source": [
    "# SVM"
   ]
  },
  {
   "cell_type": "code",
   "execution_count": 1,
   "metadata": {
    "execution": {
     "iopub.execute_input": "2021-12-09T20:42:03.886722Z",
     "iopub.status.busy": "2021-12-09T20:42:03.886461Z",
     "iopub.status.idle": "2021-12-09T20:43:12.310043Z",
     "shell.execute_reply": "2021-12-09T20:43:12.308989Z",
     "shell.execute_reply.started": "2021-12-09T20:42:03.886685Z"
    }
   },
   "outputs": [
    {
     "ename": "NameError",
     "evalue": "name 'x_train' is not defined",
     "output_type": "error",
     "traceback": [
      "\u001b[1;31m---------------------------------------------------------------------------\u001b[0m",
      "\u001b[1;31mNameError\u001b[0m                                 Traceback (most recent call last)",
      "\u001b[1;32m~\\AppData\\Local\\Temp/ipykernel_33756/1711694390.py\u001b[0m in \u001b[0;36m<module>\u001b[1;34m\u001b[0m\n\u001b[0;32m      2\u001b[0m \u001b[1;33m\u001b[0m\u001b[0m\n\u001b[0;32m      3\u001b[0m \u001b[0mclf\u001b[0m \u001b[1;33m=\u001b[0m \u001b[0msvm\u001b[0m\u001b[1;33m.\u001b[0m\u001b[0mSVC\u001b[0m\u001b[1;33m(\u001b[0m\u001b[0mdecision_function_shape\u001b[0m\u001b[1;33m=\u001b[0m\u001b[1;34m'ovo'\u001b[0m\u001b[1;33m)\u001b[0m\u001b[1;33m\u001b[0m\u001b[1;33m\u001b[0m\u001b[0m\n\u001b[1;32m----> 4\u001b[1;33m \u001b[0mclf\u001b[0m\u001b[1;33m.\u001b[0m\u001b[0mfit\u001b[0m\u001b[1;33m(\u001b[0m\u001b[0mx_train\u001b[0m\u001b[1;33m,\u001b[0m \u001b[0my_train\u001b[0m\u001b[1;33m)\u001b[0m\u001b[1;33m\u001b[0m\u001b[1;33m\u001b[0m\u001b[0m\n\u001b[0m\u001b[0;32m      5\u001b[0m \u001b[0mpredict_svm\u001b[0m \u001b[1;33m=\u001b[0m \u001b[0mclf\u001b[0m\u001b[1;33m.\u001b[0m\u001b[0mpredict\u001b[0m\u001b[1;33m(\u001b[0m\u001b[0mx_test\u001b[0m\u001b[1;33m)\u001b[0m\u001b[1;33m\u001b[0m\u001b[1;33m\u001b[0m\u001b[0m\n\u001b[0;32m      6\u001b[0m \u001b[0mcm\u001b[0m \u001b[1;33m=\u001b[0m \u001b[0mconfusion_matrix\u001b[0m\u001b[1;33m(\u001b[0m\u001b[0my_test\u001b[0m\u001b[1;33m,\u001b[0m\u001b[0mpredict_svm\u001b[0m\u001b[1;33m)\u001b[0m\u001b[1;33m\u001b[0m\u001b[1;33m\u001b[0m\u001b[0m\n",
      "\u001b[1;31mNameError\u001b[0m: name 'x_train' is not defined"
     ]
    }
   ],
   "source": [
    "from sklearn import svm\n",
    "\n",
    "clf = svm.SVC(decision_function_shape='ovo')\n",
    "clf.fit(x_train, y_train)\n",
    "predict_svm = clf.predict(x_test)\n",
    "cm = confusion_matrix(y_test,predict_svm)\n",
    "print(classification_report(y_test,predict_svm))\n",
    "print(clf.score(x_test,y_test))\n",
    "\n",
    "plt.rcParams['figure.figsize'] = (10,10)\n",
    "sns.heatmap(cm, annot=True)\n",
    "plt.title(\"Confusion Matrix\", fontsize = 15)\n",
    "plt.show()\n",
    "\n",
    "z = lambda x,y: (-clf.intercept_[0]-clf.coef_[0][0]*x -clf.coef_[0][1]*y) / clf.coef_[0][2]\n",
    "tmp = np.linspace(-5,5,30)\n",
    "x,y = np.meshgrid(tmp,tmp)\n",
    "fig = plt.figure()\n",
    "ax  = fig.add_subplot(111, projection='3d')\n",
    "ax.plot3D(x_train[y_train==0,0], x_train[y_train==0,1], x_train[y_train==0,2],'ob')\n",
    "ax.plot3D(x_train[y_train==1,0], x_train[y_train==1,1], x_train[y_train==1,2],'sr')\n",
    "ax.plot_surface(x, y, z(x,y))\n",
    "ax.view_init(30, 60)\n",
    "plt.show()"
   ]
  },
  {
   "cell_type": "markdown",
   "metadata": {},
   "source": [
    "# Random Forest"
   ]
  },
  {
   "cell_type": "code",
   "execution_count": 24,
   "metadata": {
    "execution": {
     "iopub.execute_input": "2021-12-09T20:55:56.768387Z",
     "iopub.status.busy": "2021-12-09T20:55:56.768082Z",
     "iopub.status.idle": "2021-12-09T21:04:04.709040Z",
     "shell.execute_reply": "2021-12-09T21:04:04.708140Z",
     "shell.execute_reply.started": "2021-12-09T20:55:56.768355Z"
    }
   },
   "outputs": [],
   "source": [
    "from sklearn.ensemble import RandomForestRegressor\n",
    "\n",
    "rf = RandomForestRegressor(n_estimators=50,random_state = 33)\n",
    "rf.fit(x_train, y_train)\n",
    "predict_rf = rf.predict(x_test)\n",
    "print(rf.score(x_test,y_test))\n",
    "\n"
   ]
  }
 ],
 "metadata": {
  "kernelspec": {
   "display_name": "Python 3 (ipykernel)",
   "language": "python",
   "name": "python3"
  },
  "language_info": {
   "codemirror_mode": {
    "name": "ipython",
    "version": 3
   },
   "file_extension": ".py",
   "mimetype": "text/x-python",
   "name": "python",
   "nbconvert_exporter": "python",
   "pygments_lexer": "ipython3",
   "version": "3.9.7"
  }
 },
 "nbformat": 4,
 "nbformat_minor": 4
}
