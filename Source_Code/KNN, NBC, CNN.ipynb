{
 "cells": [
  {
   "cell_type": "code",
   "execution_count": 2,
   "id": "f9e88758",
   "metadata": {},
   "outputs": [],
   "source": [
    "import re,sys,os,numpy as np, pandas as pd\n",
    "os.environ['TF_CPP_MIN_LOG_LEVEL'] = '3' \n",
    "import tensorflow as tf\n",
    "from sklearn.metrics import confusion_matrix\n",
    "import cv2\n",
    "from sklearn.preprocessing import LabelEncoder\n",
    "from tensorflow.keras.models import Sequential, load_model\n",
    "from tensorflow.keras.layers import Dense, Conv2D, MaxPooling2D, Flatten, Dropout, Convolution2D, Activation\n",
    "from sklearn.neighbors import KNeighborsClassifier\n",
    "from sklearn.naive_bayes import GaussianNB\n",
    "from sklearn.metrics import accuracy_score\n",
    "import wandb\n",
    "import matplotlib.pyplot as plt\n",
    "import pandas as pd\n",
    "from sklearn.metrics import confusion_matrix\n",
    "from sklearn import datasets, neighbors\n",
    "from mlxtend.plotting import plot_decision_regions\n",
    "from matplotlib import pyplot\n",
    "from sklearn.metrics import mean_squared_error\n",
    "import seaborn as sn\n",
    "tf.compat.v1.logging.set_verbosity(tf.compat.v1.logging.ERROR)\n",
    "\n",
    "\n"
   ]
  },
  {
   "cell_type": "code",
   "execution_count": 3,
   "id": "2f09ccef",
   "metadata": {},
   "outputs": [],
   "source": [
    "def get_data(file):\n",
    "\n",
    "    images = []\n",
    "    labels = []\n",
    "    \n",
    "    img_path= \"C:/Users/Manasa Mananjaya/images\"\n",
    "    f=open(file,\"r\")\n",
    "    \n",
    "    for line in f:\n",
    "        \n",
    "        filename, label = line.split(' ')\n",
    "        filename=filename[11:]\n",
    "        path=img_path +\"/\"+ filename\n",
    "        img=cv2.imread(path)\n",
    "        img = cv2.resize(img, (32, 32))\n",
    "        images.append(img)\n",
    "        labels.append(int(label))\n",
    "            \n",
    "    images = np.array(images)    \n",
    "    labels = np.array(labels)\n",
    "    return images,labels\n",
    "      \n",
    "      \n",
    "def import_data():\n",
    "    \n",
    "    train_data, train_labels= get_data(\"train.txt\")  #3746\n",
    "    val_data, val_labels= get_data(\"val.txt\")      #1640\n",
    "    test_data, test_labels= get_data(\"test.txt\")    #1305\n",
    "    \n",
    "    return train_data,train_labels,val_data,val_labels,test_data,test_labels\n",
    "\n",
    "\n"
   ]
  },
  {
   "cell_type": "code",
   "execution_count": 4,
   "id": "bba4e4af",
   "metadata": {},
   "outputs": [
    {
     "name": "stdout",
     "output_type": "stream",
     "text": [
      "KNN Accuracy= 84.82758620689656\n"
     ]
    },
    {
     "data": {
      "image/png": "[encoded data removed]",
      "text/plain": [
       "<Figure size 432x288 with 1 Axes>"
      ]
     },
     "metadata": {
      "needs_background": "light"
     },
     "output_type": "display_data"
    }
   ],
   "source": [
    "def knn():\n",
    "    \n",
    "    model = KNeighborsClassifier(n_neighbors=3)\n",
    "\n",
    "    train_data,train_labels,val_data,val_labels,test_data,test_labels=import_data()\n",
    "\n",
    "    train_data=train_data.reshape(train_data.shape[0],-1)\n",
    "    test_data=test_data.reshape(test_data.shape[0],-1)\n",
    "\n",
    "    model.fit(train_data,train_labels)\n",
    "    test_acc = model.score(test_data,test_labels)\n",
    "    y_pred = model.predict(test_data)\n",
    "        \n",
    "    print(\"KNN Accuracy=\",test_acc*100)\n",
    "    matrix = confusion_matrix(test_labels, y_pred)\n",
    "    \n",
    "    data1=[]\n",
    "    data2=[]\n",
    "    for i in range(23):\n",
    "        total=0\n",
    "        for j in range(23):\n",
    "            \n",
    "            if i==j:\n",
    "                data1.append(matrix[i][j])\n",
    "            elif matrix[i][j]!=0:\n",
    "                total=total+matrix[i][j]\n",
    "        data2.append(total)\n",
    "    \n",
    "    plt.bar(range(len(data1)), data1)\n",
    "    plt.bar(range(len(data2)), data2, bottom=data1)\n",
    "    plt.xlabel('categories')\n",
    "    plt.ylabel('number of images')\n",
    "    plt.show()\n",
    "    \n",
    "knn()"
   ]
  },
  {
   "cell_type": "code",
   "execution_count": 5,
   "id": "f398e939",
   "metadata": {},
   "outputs": [
    {
     "name": "stdout",
     "output_type": "stream",
     "text": [
      "CNN Accuracy= 90.88122844696045\n"
     ]
    },
    {
     "data": {
      "image/png": "[encoded data removed]",
      "text/plain": [
       "<Figure size 432x288 with 1 Axes>"
      ]
     },
     "metadata": {
      "needs_background": "light"
     },
     "output_type": "display_data"
    },
    {
     "data": {
      "image/png": "[encoded data removed]",
      "text/plain": [
       "<Figure size 432x288 with 1 Axes>"
      ]
     },
     "metadata": {
      "needs_background": "light"
     },
     "output_type": "display_data"
    }
   ],
   "source": [
    "def cnn():\n",
    "     \n",
    "    train_data,train_labels,val_data,val_labels,test_data,test_labels=import_data()\n",
    "    \n",
    "    train_data = train_data.reshape(train_data.shape[0], 32, 32, 3)\n",
    "    test_data = test_data.reshape(test_data.shape[0], 32, 32, 3)\n",
    "   \n",
    "    model=Sequential()\n",
    "    \n",
    "    model.add(Conv2D(16, kernel_size=(3, 3), activation='relu',padding='same', input_shape=(32,32,3)))\n",
    "    model.add(MaxPooling2D(pool_size=(2, 2)))\n",
    "    \n",
    "    model.add(Conv2D(32, kernel_size=(3, 3), activation='relu',padding='same'))\n",
    "    model.add(MaxPooling2D(pool_size=(2, 2)))\n",
    "    \n",
    "    model.add(Conv2D(64, kernel_size=(3, 3), activation='relu',padding='same'))\n",
    "    model.add(MaxPooling2D(pool_size=(2, 2)))\n",
    "    \n",
    "    model.add(Conv2D(128, kernel_size=(3, 3), activation='relu',padding='same'))\n",
    "    model.add(MaxPooling2D(pool_size=(2, 2)))\n",
    "    model.add(Dropout(0.25))\n",
    "\n",
    "    model.add(Flatten())\n",
    "    model.add(Dense(512, activation='relu'))\n",
    "    model.add(Dense(25, activation='softmax'))\n",
    "\n",
    "    model.compile(optimizer='adam',loss='sparse_categorical_crossentropy',metrics=['accuracy'])\n",
    "    history= model.fit(train_data,train_labels,epochs=20,batch_size=100,verbose=0,validation_data=(val_data, val_labels))\n",
    "    \n",
    "    predictions = model.predict(test_data)\n",
    "    \n",
    "    # predicted labels\n",
    "    y_pred = np.argmax(predictions, axis=1)\n",
    "    \n",
    "    test_loss, test_acc = model.evaluate(test_data,test_labels,verbose=0)\n",
    "    \n",
    "    \n",
    "    print(\"CNN Accuracy=\",test_acc*100)\n",
    "\n",
    "    plt.plot(history.history['accuracy'])\n",
    "    plt.xlabel('epochs')\n",
    "    plt.ylabel('training accuracy')\n",
    "    plt.show()\n",
    "    \n",
    "    matrix = confusion_matrix(test_labels, y_pred)\n",
    "    \n",
    "    data1=[]\n",
    "    data2=[]\n",
    "    for i in range(23):\n",
    "        total=0\n",
    "        for j in range(23):\n",
    "            \n",
    "            if i==j:\n",
    "                data1.append(matrix[i][j])\n",
    "            elif matrix[i][j]!=0:\n",
    "                total=total+matrix[i][j]\n",
    "        data2.append(total)\n",
    "    \n",
    "    plt.bar(range(len(data1)), data1)\n",
    "    plt.bar(range(len(data2)), data2, bottom=data1)\n",
    "    plt.xlabel('categories')\n",
    "    plt.ylabel('number of images')\n",
    "    plt.show()\n",
    "    \n",
    "    \n",
    "cnn()"
   ]
  },
  {
   "cell_type": "code",
   "execution_count": 6,
   "id": "c91f3a4a",
   "metadata": {},
   "outputs": [
    {
     "name": "stdout",
     "output_type": "stream",
     "text": [
      "Naive Bayes Accuracy= 65.28735632183908\n"
     ]
    },
    {
     "data": {
      "image/png": "[encoded data removed]",
      "text/plain": [
       "<Figure size 432x288 with 1 Axes>"
      ]
     },
     "metadata": {
      "needs_background": "light"
     },
     "output_type": "display_data"
    }
   ],
   "source": [
    "def naive_bayes():\n",
    "\n",
    "    train_data,train_labels,val_data,val_labels,test_data,test_labels=import_data()  \n",
    "    train_data=train_data.reshape(train_data.shape[0],-1)\n",
    "    test_data=test_data.reshape(test_data.shape[0],-1)\n",
    "    \n",
    "    model = GaussianNB()\n",
    "    model.fit(train_data,train_labels)\n",
    "    y_pred = model.predict(test_data)\n",
    "    test_acc=accuracy_score(test_labels, y_pred)\n",
    "    print(\"Naive Bayes Accuracy=\",test_acc*100)\n",
    "    \n",
    "    matrix = confusion_matrix(test_labels, y_pred)\n",
    "    \n",
    "    data1=[]\n",
    "    data2=[]\n",
    "    for i in range(23):\n",
    "        total=0\n",
    "        for j in range(23):\n",
    "            \n",
    "            if i==j:\n",
    "                data1.append(matrix[i][j])\n",
    "            elif matrix[i][j]>0:\n",
    "                total=total+matrix[i][j]\n",
    "        data2.append(total)\n",
    "    \n",
    "    plt.bar(range(len(data1)), data1)\n",
    "    plt.bar(range(len(data2)), data2, bottom=data1)\n",
    "    plt.xlabel('categories')\n",
    "    plt.ylabel('number of images')\n",
    "    plt.show()\n",
    "    \n",
    "naive_bayes()\n",
    "    "
   ]
  },
  {
   "cell_type": "code",
   "execution_count": 7,
   "id": "dbd176b0",
   "metadata": {},
   "outputs": [
    {
     "data": {
      "image/png": "[encoded data removed]",
      "text/plain": [
       "<Figure size 432x288 with 1 Axes>"
      ]
     },
     "metadata": {
      "needs_background": "light"
     },
     "output_type": "display_data"
    }
   ],
   "source": [
    "data1=[87,72,71,84,93,65]\n",
    "\n",
    "plt.bar(['SVM','RF','DT','KNN','CNN','GNB'], data1)\n",
    "\n",
    "plt.xlabel('Models')\n",
    "plt.ylabel('Accuracy')\n",
    "plt.show()"
   ]
  },
  {
   "cell_type": "code",
   "execution_count": null,
   "id": "f4d0335e",
   "metadata": {},
   "outputs": [],
   "source": []
  }
 ],
 "metadata": {
  "kernelspec": {
   "display_name": "Python 3 (ipykernel)",
   "language": "python",
   "name": "python3"
  },
  "language_info": {
   "codemirror_mode": {
    "name": "ipython",
    "version": 3
   },
   "file_extension": ".py",
   "mimetype": "text/x-python",
   "name": "python",
   "nbconvert_exporter": "python",
   "pygments_lexer": "ipython3",
   "version": "3.9.7"
  }
 },
 "nbformat": 4,
 "nbformat_minor": 5
}
